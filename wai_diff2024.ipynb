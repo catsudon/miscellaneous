{
  "nbformat": 4,
  "nbformat_minor": 0,
  "metadata": {
    "colab": {
      "private_outputs": true,
      "provenance": [],
      "machine_shape": "hm",
      "include_colab_link": true
    },
    "kernelspec": {
      "name": "python3",
      "display_name": "Python 3"
    },
    "language_info": {
      "name": "python"
    },
    "accelerator": "GPU",
    "gpuClass": "standard"
  },
  "cells": [
    {
      "cell_type": "markdown",
      "metadata": {
        "id": "view-in-github",
        "colab_type": "text"
      },
      "source": [
        "<a href=\"https://colab.research.google.com/github/catsudon/miscellaneous/blob/main/wai_diff2024.ipynb\" target=\"_parent\"><img src=\"https://colab.research.google.com/assets/colab-badge.svg\" alt=\"Open In Colab\"/></a>"
      ]
    },
    {
      "cell_type": "code",
      "execution_count": null,
      "metadata": {
        "id": "9rBvbX-o0zV-"
      },
      "outputs": [],
      "source": [
        "!git clone https://github.com/AUTOMATIC1111/stable-diffusion-webui\n",
        "%cd stable-diffusion-webui\n",
        "\n",
        "\n",
        "\n",
        "from google.colab import drive\n",
        "drive.mount('/content/drive')\n",
        "!git clone https://github.com/mark48853/sd-webui-roop /content/stable-diffusion-webui/extensions/roop\n",
        "!pip install insightface==0.7.3 & curl https://github.com/facefusion/facefusion-assets/releases/download/models/inswapper_128.onnx -Lo /content/stable-diffusion-webui/models/roop/inswapper_128.onnx\n",
        "\n"
      ]
    },
    {
      "cell_type": "code",
      "source": [
        "%cd /content/stable-diffusion-webui\n",
        "!python ./launch.py --share --opt-split-attention"
      ],
      "metadata": {
        "id": "bWA6Z2wS00cs"
      },
      "execution_count": null,
      "outputs": []
    },
    {
      "cell_type": "code",
      "source": [
        "#!wget https://civitai.com/api/download/models/11885 -O /content/stable-diffusion-webui/models/Lora/liyuu.safetensors\n",
        "!cd stable-diffusion-webui\n",
        "!COMMANDLINE_ARGS=\"--share --disable-safe-unpickle --enable-insecure-extension-access\" REQS_FILE=\"requirements.txt\" python stable-diffusion-webui/launch.py"
      ],
      "metadata": {
        "id": "exobz2yDyZdu"
      },
      "execution_count": null,
      "outputs": []
    },
    {
      "cell_type": "code",
      "source": [
        "!cd stable-diffusion-webui\n",
        "!ls"
      ],
      "metadata": {
        "id": "SmmHSOCJ0iEi"
      },
      "execution_count": null,
      "outputs": []
    },
    {
      "cell_type": "code",
      "source": [],
      "metadata": {
        "id": "lEypKbL83hQT"
      },
      "execution_count": null,
      "outputs": []
    }
  ]
}