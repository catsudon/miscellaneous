{
  "nbformat": 4,
  "nbformat_minor": 0,
  "metadata": {
    "colab": {
      "provenance": [],
      "machine_shape": "hm",
      "include_colab_link": true
    },
    "kernelspec": {
      "name": "python3",
      "display_name": "Python 3"
    },
    "accelerator": "TPU"
  },
  "cells": [
    {
      "cell_type": "markdown",
      "metadata": {
        "id": "view-in-github",
        "colab_type": "text"
      },
      "source": [
        "<a href=\"https://colab.research.google.com/github/mark48853/miscellaneous/blob/main/HACKANONS_COLAB_25GB_RAM.ipynb\" target=\"_parent\"><img src=\"https://colab.research.google.com/assets/colab-badge.svg\" alt=\"Open In Colab\"/></a>"
      ]
    },
    {
      "cell_type": "markdown",
      "metadata": {
        "id": "4cbgwZWWfWpp"
      },
      "source": [
        "# New Section"
      ]
    },
    {
      "cell_type": "code",
      "metadata": {
        "id": "tAb77yZ9fzMG"
      },
      "source": [
        "!git clone https://github.com/AUTOMATIC1111/stable-diffusion-webui\n",
        "%cd stable-diffusion-webui\n",
        "\n",
        "# !sed -i -e 's/numpy==1.23.3/numpy==1.21.6/g' requirements_versions.txt\n",
        "# !sed -i -e 's/fairscale==0.4.9/fairscale==0.4.6/g' requirements_versions.txt\n",
        "\n",
        "\n",
        "!wget https://civitai.com/api/download/models/10332 -O /content/stable-diffusion-webui/models/Stable-diffusion/nai.ckpt\n",
        "!wget https://huggingface.co/Eonlaxy/nvoai/resolve/main/nai.vae.pt -O /content/stable-diffusion-webui/models/Stable-diffusion/nai.vae.pt\n",
        "!wget https://huggingface.co/Eonlaxy/nvoai/resolve/main/nai.yaml -O /content/stable-diffusion-webui/models/Stable-diffusion/nai.yaml\n",
        "\n",
        "!python launch.py --share --opt-split-attention"
      ],
      "execution_count": null,
      "outputs": []
    },
    {
      "cell_type": "code",
      "metadata": {
        "id": "pafL7Li0jyXW"
      },
      "source": [],
      "execution_count": null,
      "outputs": []
    }
  ]
}