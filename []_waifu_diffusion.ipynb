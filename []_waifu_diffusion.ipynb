{
  "nbformat": 4,
  "nbformat_minor": 0,
  "metadata": {
    "colab": {
      "private_outputs": true,
      "provenance": [],
      "authorship_tag": "ABX9TyOtQYGHsxwkQ4colvo6f6q5",
      "include_colab_link": true
    },
    "kernelspec": {
      "name": "python3",
      "display_name": "Python 3"
    },
    "language_info": {
      "name": "python"
    },
    "accelerator": "GPU"
  },
  "cells": [
    {
      "cell_type": "markdown",
      "metadata": {
        "id": "view-in-github",
        "colab_type": "text"
      },
      "source": [
        "<a href=\"https://colab.research.google.com/github/mark48853/miscellaneous/blob/main/%5B%5D_waifu_diffusion.ipynb\" target=\"_parent\"><img src=\"https://colab.research.google.com/assets/colab-badge.svg\" alt=\"Open In Colab\"/></a>"
      ]
    },
    {
      "cell_type": "code",
      "execution_count": null,
      "metadata": {
        "id": "9rBvbX-o0zV-"
      },
      "outputs": [],
      "source": [
        "!git clone https://github.com/mark48853/stable-diffusion-webui-but-with-predefined-negative-prompt\n",
        "%cd stable-diffusion-webui-but-with-predefined-negative-prompt\n",
        "\n",
        "!sed -i -e 's/numpy==1.23.3/numpy==1.21.6/g' requirements_versions.txt\n",
        "!sed -i -e 's/fairscale==0.4.9/fairscale==0.4.6/g' requirements_versions.txt\n",
        "\n",
        "\n",
        "!wget https://huggingface.co/Eonlaxy/nvoai/resolve/main/nai.ckpt -O /content/stable-diffusion-webui-but-with-predefined-negative-prompt/models/Stable-diffusion/nai.ckpt\n",
        "!wget https://huggingface.co/Eonlaxy/nvoai/resolve/main/nai.vae.pt -O /content/stable-diffusion-webui-but-with-predefined-negative-prompt/models/Stable-diffusion/nai.vae.pt\n",
        "!wget https://huggingface.co/Eonlaxy/nvoai/resolve/main/nai.yaml -O /content/stable-diffusion-webui-but-with-predefined-negative-prompt/models/Stable-diffusion/nai.yaml\n",
        "\n",
        "!python launch.py --share --opt-split-attention"
      ]
    },
    {
      "cell_type": "code",
      "source": [
        "!python launch.py --share --opt-split-attention"
      ],
      "metadata": {
        "id": "bWA6Z2wS00cs"
      },
      "execution_count": null,
      "outputs": []
    }
  ]
}
