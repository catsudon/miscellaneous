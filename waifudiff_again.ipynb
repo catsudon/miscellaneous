{
  "nbformat": 4,
  "nbformat_minor": 0,
  "metadata": {
    "colab": {
      "private_outputs": true,
      "provenance": [],
      "include_colab_link": true
    },
    "kernelspec": {
      "name": "python3",
      "display_name": "Python 3"
    },
    "language_info": {
      "name": "python"
    },
    "accelerator": "GPU"
  },
  "cells": [
    {
      "cell_type": "markdown",
      "metadata": {
        "id": "view-in-github",
        "colab_type": "text"
      },
      "source": [
        "<a href=\"https://colab.research.google.com/github/mark48853/miscellaneous/blob/main/waifudiff_again.ipynb\" target=\"_parent\"><img src=\"https://colab.research.google.com/assets/colab-badge.svg\" alt=\"Open In Colab\"/></a>"
      ]
    },
    {
      "cell_type": "code",
      "execution_count": null,
      "metadata": {
        "id": "9rBvbX-o0zV-"
      },
      "outputs": [],
      "source": [
        "!git clone https://github.com/mark48853/stable-diffusion-webui-but-with-predefined-negative-prompt\n",
        "%cd stable-diffusion-webui-but-with-predefined-negative-prompt\n",
        "\n",
        "!sed -i -e 's/numpy==1.23.3/numpy==1.21.6/g' requirements_versions.txt\n",
        "!sed -i -e 's/fairscale==0.4.9/fairscale==0.4.6/g' requirements_versions.txt\n",
        "\n",
        "\n",
        "!wget https://huggingface.co/Eonlaxy/nvoai/resolve/main/nai.ckpt -O /content/stable-diffusion-webui-but-with-predefined-negative-prompt/stable-diffusion-webui-but-with-predefined-negative-prompt/nai.ckpt\n",
        "!wget https://huggingface.co/Eonlaxy/nvoai/resolve/main/nai.vae.pt -O /content/stable-diffusion-webui-but-with-predefined-negative-prompt/stable-diffusion-webui-but-with-predefined-negative-prompt/nai.vae.pt\n",
        "!wget https://huggingface.co/Eonlaxy/nvoai/resolve/main/nai.yaml -O /content/stable-diffusion-webui-but-with-predefined-negative-prompt/stable-diffusion-webui-but-with-predefined-negative-prompt/nai.yaml\n",
        "\n",
        "!python launch.py --share --opt-split-attention"
      ]
    },
    {
      "cell_type": "code",
      "source": [
        "# !mv /content/stable-diffusion-webui-but-with-predefined-negative-prompt/models/Stable-diffusion/ /content/stable-diffusion-webui-but-with-predefined-negative-prompt/stable-diffusion-webui-but-with-predefined-negative-prompt"
      ],
      "metadata": {
        "id": "bWA6Z2wS00cs"
      },
      "execution_count": null,
      "outputs": []
    },
    {
      "cell_type": "code",
      "source": [],
      "metadata": {
        "id": "4FHQ6hkKv_9l"
      },
      "execution_count": null,
      "outputs": []
    }
  ]
}