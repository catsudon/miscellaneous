{
  "nbformat": 4,
  "nbformat_minor": 0,
  "metadata": {
    "colab": {
      "provenance": [],
      "authorship_tag": "ABX9TyP6LWZ1u2HHyvu9ILqwRuNf",
      "include_colab_link": true
    },
    "kernelspec": {
      "name": "python3",
      "display_name": "Python 3"
    },
    "language_info": {
      "name": "python"
    }
  },
  "cells": [
    {
      "cell_type": "markdown",
      "metadata": {
        "id": "view-in-github",
        "colab_type": "text"
      },
      "source": [
        "<a href=\"https://colab.research.google.com/github/mark48853/miscellaneous/blob/main/majicmix.ipynb\" target=\"_parent\"><img src=\"https://colab.research.google.com/assets/colab-badge.svg\" alt=\"Open In Colab\"/></a>"
      ]
    },
    {
      "cell_type": "code",
      "execution_count": 1,
      "metadata": {
        "colab": {
          "base_uri": "https://localhost:8080/"
        },
        "id": "XUdo3gc0Y4EI",
        "outputId": "3f5e6214-88cd-4d0a-b38f-42260f430a01"
      },
      "outputs": [
        {
          "output_type": "stream",
          "name": "stdout",
          "text": [
            "Looking in indexes: https://pypi.org/simple, https://us-python.pkg.dev/colab-wheels/public/simple/\n",
            "Collecting fastapi==0.90.1\n",
            "  Downloading fastapi-0.90.1-py3-none-any.whl (56 kB)\n",
            "\u001b[2K     \u001b[90m━━━━━━━━━━━━━━━━━━━━━━━━━━━━━━━━━━━━━━━━\u001b[0m \u001b[32m56.2/56.2 kB\u001b[0m \u001b[31m1.2 MB/s\u001b[0m eta \u001b[36m0:00:00\u001b[0m\n",
            "\u001b[?25hRequirement already satisfied: pydantic!=1.7,!=1.7.1,!=1.7.2,!=1.7.3,!=1.8,!=1.8.1,<2.0.0,>=1.6.2 in /usr/local/lib/python3.10/dist-packages (from fastapi==0.90.1) (1.10.7)\n",
            "Collecting starlette<0.24.0,>=0.22.0 (from fastapi==0.90.1)\n",
            "  Downloading starlette-0.23.1-py3-none-any.whl (64 kB)\n",
            "\u001b[2K     \u001b[90m━━━━━━━━━━━━━━━━━━━━━━━━━━━━━━━━━━━━━━━━\u001b[0m \u001b[32m64.5/64.5 kB\u001b[0m \u001b[31m4.3 MB/s\u001b[0m eta \u001b[36m0:00:00\u001b[0m\n",
            "\u001b[?25hRequirement already satisfied: typing-extensions>=4.2.0 in /usr/local/lib/python3.10/dist-packages (from pydantic!=1.7,!=1.7.1,!=1.7.2,!=1.7.3,!=1.8,!=1.8.1,<2.0.0,>=1.6.2->fastapi==0.90.1) (4.5.0)\n",
            "Requirement already satisfied: anyio<5,>=3.4.0 in /usr/local/lib/python3.10/dist-packages (from starlette<0.24.0,>=0.22.0->fastapi==0.90.1) (3.6.2)\n",
            "Requirement already satisfied: idna>=2.8 in /usr/local/lib/python3.10/dist-packages (from anyio<5,>=3.4.0->starlette<0.24.0,>=0.22.0->fastapi==0.90.1) (3.4)\n",
            "Requirement already satisfied: sniffio>=1.1 in /usr/local/lib/python3.10/dist-packages (from anyio<5,>=3.4.0->starlette<0.24.0,>=0.22.0->fastapi==0.90.1) (1.3.0)\n",
            "Installing collected packages: starlette, fastapi\n",
            "Successfully installed fastapi-0.90.1 starlette-0.23.1\n",
            "Cloning into 'stable-diffusion-webui'...\n",
            "remote: Enumerating objects: 21535, done.\u001b[K\n",
            "remote: Counting objects: 100% (148/148), done.\u001b[K\n",
            "remote: Compressing objects: 100% (83/83), done.\u001b[K\n",
            "remote: Total 21535 (delta 79), reused 114 (delta 65), pack-reused 21387\u001b[K\n",
            "Receiving objects: 100% (21535/21535), 29.97 MiB | 24.11 MiB/s, done.\n",
            "Resolving deltas: 100% (15092/15092), done.\n",
            "Cloning into '/content/stable-diffusion-webui/extensions/stable-diffusion-webui-images-browser'...\n",
            "remote: Enumerating objects: 143, done.\u001b[K\n",
            "remote: Counting objects: 100% (34/34), done.\u001b[K\n",
            "remote: Compressing objects: 100% (13/13), done.\u001b[K\n",
            "remote: Total 143 (delta 25), reused 21 (delta 21), pack-reused 109\u001b[K\n",
            "Receiving objects: 100% (143/143), 37.92 KiB | 882.00 KiB/s, done.\n",
            "Resolving deltas: 100% (51/51), done.\n",
            "Cloning into '/content/stable-diffusion-webui/extensions/a1111-sd-webui-tagcomplete'...\n",
            "remote: Enumerating objects: 1341, done.\u001b[K\n",
            "remote: Counting objects: 100% (458/458), done.\u001b[K\n",
            "remote: Compressing objects: 100% (151/151), done.\u001b[K\n",
            "remote: Total 1341 (delta 321), reused 367 (delta 307), pack-reused 883\u001b[K\n",
            "Receiving objects: 100% (1341/1341), 3.88 MiB | 10.45 MiB/s, done.\n",
            "Resolving deltas: 100% (767/767), done.\n",
            "  % Total    % Received % Xferd  Average Speed   Time    Time     Time  Current\n",
            "                                 Dload  Upload   Total   Spent    Left  Speed\n",
            "100   521    0   521    0     0    638      0 --:--:-- --:--:-- --:--:--   637\n",
            "100 2288M  100 2288M    0     0  33.1M      0  0:01:09  0:01:09 --:--:-- 37.2M\n",
            "/content/stable-diffusion-webui/models/Lora/makima.safetensors: No such file or directory\n",
            "/content/stable-diffusion-webui\n",
            "D\tembeddings/Place Textual Inversion embeddings here.txt\n",
            "Note: switching to '3715ece'.\n",
            "\n",
            "You are in 'detached HEAD' state. You can look around, make experimental\n",
            "changes and commit them, and you can discard any commits you make in this\n",
            "state without impacting any branches by switching back to a branch.\n",
            "\n",
            "If you want to create a new branch to retain commits you create, you may\n",
            "do so (now or later) by using -c with the switch command. Example:\n",
            "\n",
            "  git switch -c <new-branch-name>\n",
            "\n",
            "Or undo this operation with:\n",
            "\n",
            "  git switch -\n",
            "\n",
            "Turn off this advice by setting config variable advice.detachedHead to false\n",
            "\n",
            "HEAD is now at 3715ece0 Merge pull request #7717 from zijiren233/master\n",
            "Cloning into 'embeddings'...\n",
            "remote: Enumerating objects: 61, done.\u001b[K\n",
            "remote: Counting objects: 100% (29/29), done.\u001b[K\n",
            "remote: Compressing objects: 100% (29/29), done.\u001b[K\n",
            "remote: Total 61 (delta 8), reused 0 (delta 0), pack-reused 32\u001b[K\n",
            "Unpacking objects: 100% (61/61), 8.16 KiB | 597.00 KiB/s, done.\n",
            "Python 3.10.11 (main, Apr  5 2023, 14:15:10) [GCC 9.4.0]\n",
            "Commit hash: 3715ece0adce7bf7c5e9c5ab3710b2fdc3848f39\n",
            "Traceback (most recent call last):\n",
            "  File \"/content/stable-diffusion-webui/launch.py\", line 360, in <module>\n",
            "    prepare_environment()\n",
            "  File \"/content/stable-diffusion-webui/launch.py\", line 272, in prepare_environment\n",
            "    run_python(\"import torch; assert torch.cuda.is_available(), 'Torch is not able to use GPU; add --skip-torch-cuda-test to COMMANDLINE_ARGS variable to disable this check'\")\n",
            "  File \"/content/stable-diffusion-webui/launch.py\", line 129, in run_python\n",
            "    return run(f'\"{python}\" -c \"{code}\"', desc, errdesc)\n",
            "  File \"/content/stable-diffusion-webui/launch.py\", line 105, in run\n",
            "    raise RuntimeError(message)\n",
            "RuntimeError: Error running command.\n",
            "Command: \"/usr/bin/python3\" -c \"import torch; assert torch.cuda.is_available(), 'Torch is not able to use GPU; add --skip-torch-cuda-test to COMMANDLINE_ARGS variable to disable this check'\"\n",
            "Error code: 1\n",
            "stdout: <empty>\n",
            "stderr: Traceback (most recent call last):\n",
            "  File \"<string>\", line 1, in <module>\n",
            "AssertionError: Torch is not able to use GPU; add --skip-torch-cuda-test to COMMANDLINE_ARGS variable to disable this check\n",
            "\n",
            "\n"
          ]
        }
      ],
      "source": [
        "!pip install --upgrade fastapi==0.90.1\n",
        "!git clone https://github.com/AUTOMATIC1111/stable-diffusion-webui\n",
        "!git clone https://github.com/yfszzx/stable-diffusion-webui-images-browser /content/stable-diffusion-webui/extensions/stable-diffusion-webui-images-browser\n",
        "!git clone https://github.com/DominikDoom/a1111-sd-webui-tagcomplete /content/stable-diffusion-webui/extensions/a1111-sd-webui-tagcomplete\n",
        "\n",
        "# Model(s) setup\n",
        "# Below are model code for ChilloutMix, we always could change it to our desired model (how-to: https://youtu.be/vj-QrS_mWQI or https://youtu.be/MwyfwPFezvY)\n",
        "!curl -Lo mo.safetensors https://civitai.com/api/download/models/82446\n",
        "!mv \"/content/mo.safetensors\" \"/content/stable-diffusion-webui/models/Stable-diffusion\"\n",
        "\n",
        "import shutil\n",
        "shutil.rmtree('/content/stable-diffusion-webui/embeddings')\n",
        "%cd /content/stable-diffusion-webui\n",
        "!git checkout 3715ece\n",
        "!git clone https://huggingface.co/nolanaatama/embeddings\n",
        "!COMMANDLINE_ARGS=\"--share --disable-safe-unpickle --enable-insecure-extension-access\" REQS_FILE=\"requirements.txt\" python launch.py"
      ]
    },
    {
      "cell_type": "code",
      "source": [],
      "metadata": {
        "id": "WburcSy6Y5HG"
      },
      "execution_count": null,
      "outputs": []
    }
  ]
}