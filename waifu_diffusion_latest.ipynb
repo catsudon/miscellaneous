{
  "nbformat": 4,
  "nbformat_minor": 0,
  "metadata": {
    "colab": {
      "private_outputs": true,
      "provenance": [],
      "machine_shape": "hm",
      "include_colab_link": true
    },
    "kernelspec": {
      "name": "python3",
      "display_name": "Python 3"
    },
    "language_info": {
      "name": "python"
    },
    "accelerator": "GPU",
    "gpuClass": "standard"
  },
  "cells": [
    {
      "cell_type": "markdown",
      "metadata": {
        "id": "view-in-github",
        "colab_type": "text"
      },
      "source": [
        "<a href=\"https://colab.research.google.com/github/mark48853/miscellaneous/blob/main/waifu_diffusion_latest.ipynb\" target=\"_parent\"><img src=\"https://colab.research.google.com/assets/colab-badge.svg\" alt=\"Open In Colab\"/></a>"
      ]
    },
    {
      "cell_type": "code",
      "execution_count": null,
      "metadata": {
        "id": "9rBvbX-o0zV-"
      },
      "outputs": [],
      "source": [
        "!git clone https://github.com/AUTOMATIC1111/stable-diffusion-webui\n",
        "%cd stable-diffusion-webui\n",
        "\n",
        "# !sed -i -e 's/numpy==1.23.3/numpy==1.21.6/g' requirements_versions.txt\n",
        "# !sed -i -e 's/fairscale==0.4.9/fairscale==0.4.6/g' requirements_versions.txt\n",
        "\n",
        "\n",
        "\n",
        "!wget https://huggingface.co/Eonlaxy/nvoai/resolve/main/nai.ckpt -O /content/stable-diffusion-webui/models/Stable-diffusion/nai.ckpt\n",
        "!wget https://civitai.com/api/download/models/6244 -O /content/stable-diffusion-webui/models/Stable-diffusion/lora/makima.safetensors\n",
        "!wget https://huggingface.co/Eonlaxy/nvoai/resolve/main/nai.vae.pt -O /content/stable-diffusion-webui/models/Stable-diffusion/nai.vae.pt\n",
        "!wget https://huggingface.co/Eonlaxy/nvoai/resolve/main/nai.yaml -O /content/stable-diffusion-webui/models/Stable-diffusion/nai.yaml\n",
        "\n",
        "!python launch.py --share --opt-split-attention"
      ]
    },
    {
      "cell_type": "code",
      "source": [
        "!pip install --upgrade fastapi==0.90.1\n",
        "!git clone https://github.com/AUTOMATIC1111/stable-diffusion-webui\n",
        "!git clone https://github.com/yfszzx/stable-diffusion-webui-images-browser /content/stable-diffusion-webui/extensions/stable-diffusion-webui-images-browser\n",
        "!git clone https://github.com/DominikDoom/a1111-sd-webui-tagcomplete /content/stable-diffusion-webui/extensions/a1111-sd-webui-tagcomplete\n",
        "\n",
        "# Model(s) setup\n",
        "# Below are model code for ChilloutMix, we always could change it to our desired model (how-to: https://youtu.be/vj-QrS_mWQI or https://youtu.be/MwyfwPFezvY)\n",
        "!curl -Lo chilloutmixni.safetensors https://huggingface.co/nolanaatama/chomni/resolve/main/chomni.safetensors\n",
        "!mv \"/content/chilloutmixni.safetensors\" \"/content/stable-diffusion-webui/models/Stable-diffusion\"\n",
        "\n",
        "!wget https://civitai.com/api/download/models/6244 -O /content/stable-diffusion-webui/models/Lora/makima.safetensors\n",
        "\n",
        "\n",
        "import shutil\n",
        "shutil.rmtree('/content/stable-diffusion-webui/embeddings')\n",
        "%cd /content/stable-diffusion-webui\n",
        "!git checkout 3715ece\n",
        "!git clone https://huggingface.co/nolanaatama/embeddings\n",
        "!COMMANDLINE_ARGS=\"--share --disable-safe-unpickle --enable-insecure-extension-access\" REQS_FILE=\"requirements.txt\" python launch.py"
      ],
      "metadata": {
        "id": "bWA6Z2wS00cs"
      },
      "execution_count": null,
      "outputs": []
    },
    {
      "cell_type": "code",
      "source": [
        "#!wget https://civitai.com/api/download/models/11885 -O /content/stable-diffusion-webui/models/Lora/liyuu.safetensors\n",
        "!cd stable-diffusion-webui\n",
        "!COMMANDLINE_ARGS=\"--share --disable-safe-unpickle --enable-insecure-extension-access\" REQS_FILE=\"requirements.txt\" python stable-diffusion-webui/launch.py"
      ],
      "metadata": {
        "id": "exobz2yDyZdu"
      },
      "execution_count": null,
      "outputs": []
    },
    {
      "cell_type": "code",
      "source": [
        "!cd stable-diffusion-webui\n",
        "!ls"
      ],
      "metadata": {
        "id": "SmmHSOCJ0iEi"
      },
      "execution_count": null,
      "outputs": []
    },
    {
      "cell_type": "code",
      "source": [],
      "metadata": {
        "id": "lEypKbL83hQT"
      },
      "execution_count": null,
      "outputs": []
    }
  ]
}